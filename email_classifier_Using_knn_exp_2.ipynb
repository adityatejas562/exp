{
  "metadata": {
    "kernelspec": {
      "language": "python",
      "display_name": "Python 3",
      "name": "python3"
    },
    "language_info": {
      "name": "python",
      "version": "3.10.10",
      "mimetype": "text/x-python",
      "codemirror_mode": {
        "name": "ipython",
        "version": 3
      },
      "pygments_lexer": "ipython3",
      "nbconvert_exporter": "python",
      "file_extension": ".py"
    },
    "colab": {
      "provenance": []
    }
  },
  "nbformat_minor": 0,
  "nbformat": 4,
  "cells": [
    {
      "cell_type": "markdown",
      "source": [
        "### Importing the important libraries"
      ],
      "metadata": {
        "id": "GQBIuxhDH3KX"
      }
    },
    {
      "cell_type": "code",
      "source": [
        "import pandas as pd\n",
        "import numpy as np"
      ],
      "metadata": {
        "_uuid": "8f2839f25d086af736a60e9eeb907d3b93b6e0e5",
        "_cell_guid": "b1076dfc-b9ad-4769-8c92-a6c4dae69d19",
        "execution": {
          "iopub.status.busy": "2023-10-28T12:19:45.540955Z",
          "iopub.execute_input": "2023-10-28T12:19:45.542314Z",
          "iopub.status.idle": "2023-10-28T12:19:45.547182Z",
          "shell.execute_reply.started": "2023-10-28T12:19:45.542272Z",
          "shell.execute_reply": "2023-10-28T12:19:45.546089Z"
        },
        "trusted": true,
        "id": "4Nyc9YYRH3Kb"
      },
      "execution_count": null,
      "outputs": []
    },
    {
      "cell_type": "markdown",
      "source": [
        "### Reading the spam email classification csv file"
      ],
      "metadata": {
        "id": "3riihEdKH3Kd"
      }
    },
    {
      "cell_type": "code",
      "source": [
        "df = pd.read_csv('/kaggle/input/email-spam-classification-dataset-csv/emails.csv')"
      ],
      "metadata": {
        "execution": {
          "iopub.status.busy": "2023-10-28T12:19:45.549692Z",
          "iopub.execute_input": "2023-10-28T12:19:45.550126Z",
          "iopub.status.idle": "2023-10-28T12:19:47.669537Z",
          "shell.execute_reply.started": "2023-10-28T12:19:45.550094Z",
          "shell.execute_reply": "2023-10-28T12:19:47.668283Z"
        },
        "trusted": true,
        "id": "vClmKFAmH3Ke"
      },
      "execution_count": null,
      "outputs": []
    },
    {
      "cell_type": "code",
      "source": [
        "df.head()"
      ],
      "metadata": {
        "execution": {
          "iopub.status.busy": "2023-10-28T12:19:47.670915Z",
          "iopub.execute_input": "2023-10-28T12:19:47.671312Z",
          "iopub.status.idle": "2023-10-28T12:19:47.694367Z",
          "shell.execute_reply.started": "2023-10-28T12:19:47.671282Z",
          "shell.execute_reply": "2023-10-28T12:19:47.693243Z"
        },
        "trusted": true,
        "id": "MMuoBJILH3Kf",
        "outputId": "40693abe-f034-4e75-c11d-10036d1f4a61"
      },
      "execution_count": null,
      "outputs": [
        {
          "execution_count": 38,
          "output_type": "execute_result",
          "data": {
            "text/plain": "  Email No.  the  to  ect  and  for  of    a  you  hou  ...  connevey  jay  \\\n0   Email 1    0   0    1    0    0   0    2    0    0  ...         0    0   \n1   Email 2    8  13   24    6    6   2  102    1   27  ...         0    0   \n2   Email 3    0   0    1    0    0   0    8    0    0  ...         0    0   \n3   Email 4    0   5   22    0    5   1   51    2   10  ...         0    0   \n4   Email 5    7   6   17    1    5   2   57    0    9  ...         0    0   \n\n   valued  lay  infrastructure  military  allowing  ff  dry  Prediction  \n0       0    0               0         0         0   0    0           0  \n1       0    0               0         0         0   1    0           0  \n2       0    0               0         0         0   0    0           0  \n3       0    0               0         0         0   0    0           0  \n4       0    0               0         0         0   1    0           0  \n\n[5 rows x 3002 columns]",
            "text/html": "<div>\n<style scoped>\n    .dataframe tbody tr th:only-of-type {\n        vertical-align: middle;\n    }\n\n    .dataframe tbody tr th {\n        vertical-align: top;\n    }\n\n    .dataframe thead th {\n        text-align: right;\n    }\n</style>\n<table border=\"1\" class=\"dataframe\">\n  <thead>\n    <tr style=\"text-align: right;\">\n      <th></th>\n      <th>Email No.</th>\n      <th>the</th>\n      <th>to</th>\n      <th>ect</th>\n      <th>and</th>\n      <th>for</th>\n      <th>of</th>\n      <th>a</th>\n      <th>you</th>\n      <th>hou</th>\n      <th>...</th>\n      <th>connevey</th>\n      <th>jay</th>\n      <th>valued</th>\n      <th>lay</th>\n      <th>infrastructure</th>\n      <th>military</th>\n      <th>allowing</th>\n      <th>ff</th>\n      <th>dry</th>\n      <th>Prediction</th>\n    </tr>\n  </thead>\n  <tbody>\n    <tr>\n      <th>0</th>\n      <td>Email 1</td>\n      <td>0</td>\n      <td>0</td>\n      <td>1</td>\n      <td>0</td>\n      <td>0</td>\n      <td>0</td>\n      <td>2</td>\n      <td>0</td>\n      <td>0</td>\n      <td>...</td>\n      <td>0</td>\n      <td>0</td>\n      <td>0</td>\n      <td>0</td>\n      <td>0</td>\n      <td>0</td>\n      <td>0</td>\n      <td>0</td>\n      <td>0</td>\n      <td>0</td>\n    </tr>\n    <tr>\n      <th>1</th>\n      <td>Email 2</td>\n      <td>8</td>\n      <td>13</td>\n      <td>24</td>\n      <td>6</td>\n      <td>6</td>\n      <td>2</td>\n      <td>102</td>\n      <td>1</td>\n      <td>27</td>\n      <td>...</td>\n      <td>0</td>\n      <td>0</td>\n      <td>0</td>\n      <td>0</td>\n      <td>0</td>\n      <td>0</td>\n      <td>0</td>\n      <td>1</td>\n      <td>0</td>\n      <td>0</td>\n    </tr>\n    <tr>\n      <th>2</th>\n      <td>Email 3</td>\n      <td>0</td>\n      <td>0</td>\n      <td>1</td>\n      <td>0</td>\n      <td>0</td>\n      <td>0</td>\n      <td>8</td>\n      <td>0</td>\n      <td>0</td>\n      <td>...</td>\n      <td>0</td>\n      <td>0</td>\n      <td>0</td>\n      <td>0</td>\n      <td>0</td>\n      <td>0</td>\n      <td>0</td>\n      <td>0</td>\n      <td>0</td>\n      <td>0</td>\n    </tr>\n    <tr>\n      <th>3</th>\n      <td>Email 4</td>\n      <td>0</td>\n      <td>5</td>\n      <td>22</td>\n      <td>0</td>\n      <td>5</td>\n      <td>1</td>\n      <td>51</td>\n      <td>2</td>\n      <td>10</td>\n      <td>...</td>\n      <td>0</td>\n      <td>0</td>\n      <td>0</td>\n      <td>0</td>\n      <td>0</td>\n      <td>0</td>\n      <td>0</td>\n      <td>0</td>\n      <td>0</td>\n      <td>0</td>\n    </tr>\n    <tr>\n      <th>4</th>\n      <td>Email 5</td>\n      <td>7</td>\n      <td>6</td>\n      <td>17</td>\n      <td>1</td>\n      <td>5</td>\n      <td>2</td>\n      <td>57</td>\n      <td>0</td>\n      <td>9</td>\n      <td>...</td>\n      <td>0</td>\n      <td>0</td>\n      <td>0</td>\n      <td>0</td>\n      <td>0</td>\n      <td>0</td>\n      <td>0</td>\n      <td>1</td>\n      <td>0</td>\n      <td>0</td>\n    </tr>\n  </tbody>\n</table>\n<p>5 rows × 3002 columns</p>\n</div>"
          },
          "metadata": {}
        }
      ]
    },
    {
      "cell_type": "code",
      "source": [
        "df.head().info"
      ],
      "metadata": {
        "execution": {
          "iopub.status.busy": "2023-10-28T12:19:47.696189Z",
          "iopub.execute_input": "2023-10-28T12:19:47.696574Z",
          "iopub.status.idle": "2023-10-28T12:19:47.716786Z",
          "shell.execute_reply.started": "2023-10-28T12:19:47.696543Z",
          "shell.execute_reply": "2023-10-28T12:19:47.715880Z"
        },
        "trusted": true,
        "id": "QYXnFu_lH3Kg",
        "outputId": "1f02bd36-7cf2-4775-f374-78d8e289f632"
      },
      "execution_count": null,
      "outputs": [
        {
          "execution_count": 39,
          "output_type": "execute_result",
          "data": {
            "text/plain": "<bound method DataFrame.info of   Email No.  the  to  ect  and  for  of    a  you  hou  ...  connevey  jay  \\\n0   Email 1    0   0    1    0    0   0    2    0    0  ...         0    0   \n1   Email 2    8  13   24    6    6   2  102    1   27  ...         0    0   \n2   Email 3    0   0    1    0    0   0    8    0    0  ...         0    0   \n3   Email 4    0   5   22    0    5   1   51    2   10  ...         0    0   \n4   Email 5    7   6   17    1    5   2   57    0    9  ...         0    0   \n\n   valued  lay  infrastructure  military  allowing  ff  dry  Prediction  \n0       0    0               0         0         0   0    0           0  \n1       0    0               0         0         0   1    0           0  \n2       0    0               0         0         0   0    0           0  \n3       0    0               0         0         0   0    0           0  \n4       0    0               0         0         0   1    0           0  \n\n[5 rows x 3002 columns]>"
          },
          "metadata": {}
        }
      ]
    },
    {
      "cell_type": "markdown",
      "source": [
        "## Feature Selection"
      ],
      "metadata": {
        "id": "kThQx8KeH3Kh"
      }
    },
    {
      "cell_type": "code",
      "source": [
        "import pandas as pd\n",
        "from sklearn.feature_selection import SelectKBest\n",
        "from sklearn.feature_selection import mutual_info_classif\n",
        "\n",
        "# Assuming the column with words is named \"text\"\n",
        "df = df.dropna(subset=[\"text\"])\n",
        "\n",
        "# Separate the features (words) and the target variable (spam)\n",
        "X = df.drop([\"Email No.\", \"Prediction\"], axis=1)  # Exclude Email_no. and spam columns\n",
        "y = df[\"Prediction\"]\n",
        "\n",
        "# Perform feature selection using mutual information\n",
        "selector = SelectKBest(score_func=mutual_info_classif, k=1500)  # Select top 1500 features\n",
        "X_selected = selector.fit_transform(X, y)\n",
        "\n",
        "# Get the selected feature names\n",
        "selected_feature_names = X.columns[selector.get_support()].tolist()\n",
        "\n",
        "# Create a new dataframe with the selected features\n",
        "df_selected = df[[\"Email No.\", \"Prediction\"] + selected_feature_names]\n",
        "\n",
        "# Print the shape of the new dataframe\n",
        "print(\"New dataframe shape:\", df_selected.shape)\n"
      ],
      "metadata": {
        "execution": {
          "iopub.status.busy": "2023-10-28T12:19:47.720732Z",
          "iopub.execute_input": "2023-10-28T12:19:47.721431Z",
          "iopub.status.idle": "2023-10-28T12:21:00.234570Z",
          "shell.execute_reply.started": "2023-10-28T12:19:47.721385Z",
          "shell.execute_reply": "2023-10-28T12:21:00.233362Z"
        },
        "trusted": true,
        "id": "FPcdycjpH3Ki",
        "outputId": "52cbd38b-9cac-4199-915d-ac20b554b8c0"
      },
      "execution_count": null,
      "outputs": [
        {
          "name": "stdout",
          "text": "New dataframe shape: (5172, 1502)\n",
          "output_type": "stream"
        }
      ]
    },
    {
      "cell_type": "markdown",
      "source": [
        "## Train - Test Split"
      ],
      "metadata": {
        "id": "amuSri8QH3Ki"
      }
    },
    {
      "cell_type": "code",
      "source": [
        "from sklearn.model_selection import train_test_split\n",
        "from sklearn.feature_extraction.text import CountVectorizer\n",
        "\n",
        "# Perform train-test split\n",
        "X_train, X_test, y_train, y_test = train_test_split(X, y, test_size=0.2, random_state=42)\n",
        "\n",
        "# Print the shape of the train and test sets\n",
        "print(\"X_train shape:\", X_train.shape)\n",
        "print(\"X_test shape:\", X_test.shape)\n",
        "print(\"y_train shape:\", y_train.shape)\n",
        "print(\"y_test shape:\", y_test.shape)"
      ],
      "metadata": {
        "execution": {
          "iopub.status.busy": "2023-10-28T12:21:00.236200Z",
          "iopub.execute_input": "2023-10-28T12:21:00.236902Z",
          "iopub.status.idle": "2023-10-28T12:21:00.328395Z",
          "shell.execute_reply.started": "2023-10-28T12:21:00.236858Z",
          "shell.execute_reply": "2023-10-28T12:21:00.327059Z"
        },
        "trusted": true,
        "id": "-kKGMM7IH3Kj",
        "outputId": "277c0b01-3947-4423-bae3-d627652558bd"
      },
      "execution_count": null,
      "outputs": [
        {
          "name": "stdout",
          "text": "X_train shape: (4137, 3000)\nX_test shape: (1035, 3000)\ny_train shape: (4137,)\ny_test shape: (1035,)\n",
          "output_type": "stream"
        }
      ]
    },
    {
      "cell_type": "markdown",
      "source": [
        "## Checking the model's accuracy of test data"
      ],
      "metadata": {
        "execution": {
          "iopub.status.busy": "2023-06-19T18:38:56.886657Z",
          "iopub.execute_input": "2023-06-19T18:38:56.887089Z",
          "iopub.status.idle": "2023-06-19T18:38:57.154859Z",
          "shell.execute_reply.started": "2023-06-19T18:38:56.887061Z",
          "shell.execute_reply": "2023-06-19T18:38:57.153156Z"
        },
        "id": "n-yxYW6dH3Kj"
      }
    },
    {
      "cell_type": "code",
      "source": [
        "from sklearn.naive_bayes import MultinomialNB\n",
        "from sklearn.metrics import accuracy_score, roc_curve, auc\n",
        "import matplotlib.pyplot as plt\n",
        "\n",
        "# Fit the model on the training data\n",
        "model = MultinomialNB()\n",
        "model.fit(X_train, y_train)\n",
        "\n",
        "# Predict probabilities for the test data\n",
        "probs = model.predict_proba(X_test)\n",
        "\n",
        "# Predict labels for the test data\n",
        "predicted_labels = model.predict(X_test)\n",
        "\n",
        "# Calculate accuracy\n",
        "accuracy = accuracy_score(y_test, predicted_labels)\n",
        "print(\"Accuracy:\", accuracy)"
      ],
      "metadata": {
        "execution": {
          "iopub.status.busy": "2023-10-28T12:21:00.330297Z",
          "iopub.execute_input": "2023-10-28T12:21:00.330770Z",
          "iopub.status.idle": "2023-10-28T12:21:00.597317Z",
          "shell.execute_reply.started": "2023-10-28T12:21:00.330731Z",
          "shell.execute_reply": "2023-10-28T12:21:00.595600Z"
        },
        "trusted": true,
        "id": "00L7ityaH3Kj",
        "outputId": "b267ca46-bf8e-4998-9ae1-6aba469af4cc"
      },
      "execution_count": null,
      "outputs": [
        {
          "name": "stdout",
          "text": "Accuracy: 0.9545893719806763\n",
          "output_type": "stream"
        }
      ]
    },
    {
      "cell_type": "markdown",
      "source": [
        "## Plotting ROC-AUC Curve"
      ],
      "metadata": {
        "id": "nMTwdsGqH3Kk"
      }
    },
    {
      "cell_type": "code",
      "source": [
        "# Compute the ROC curve and AUC score\n",
        "fpr, tpr, thresholds = roc_curve(y_test, probs[:, 1])\n",
        "auc_score = auc(fpr, tpr)\n",
        "print(\"AUC Score:\", auc_score)\n",
        "\n",
        "# Plot the ROC curve\n",
        "plt.figure()\n",
        "plt.plot(fpr, tpr, label='ROC curve (area = %0.2f)' % auc_score)\n",
        "plt.plot([0, 1], [0, 1], 'k--')  # Diagonal line indicating random chance\n",
        "plt.xlim([0.0, 1.0])\n",
        "plt.ylim([0.0, 1.05])\n",
        "plt.xlabel('False Positive Rate')\n",
        "plt.ylabel('True Positive Rate')\n",
        "plt.title('Receiver Operating Characteristic')\n",
        "plt.legend(loc=\"lower right\")\n",
        "plt.show()"
      ],
      "metadata": {
        "execution": {
          "iopub.status.busy": "2023-10-28T12:21:00.605437Z",
          "iopub.execute_input": "2023-10-28T12:21:00.610446Z",
          "iopub.status.idle": "2023-10-28T12:21:00.910880Z",
          "shell.execute_reply.started": "2023-10-28T12:21:00.610367Z",
          "shell.execute_reply": "2023-10-28T12:21:00.910035Z"
        },
        "trusted": true,
        "id": "mLivmljsH3Kk",
        "outputId": "2cf15212-e6cd-47d5-eb39-d012012e693c"
      },
      "execution_count": null,
      "outputs": [
        {
          "name": "stdout",
          "text": "AUC Score: 0.9793548623047947\n",
          "output_type": "stream"
        },
        {
          "output_type": "display_data",
          "data": {
            "text/plain": "<Figure size 640x480 with 1 Axes>",
            "image/png": "[encoded data removed]"
          },
          "metadata": {}
        }
      ]
    },
    {
      "cell_type": "markdown",
      "source": [
        "## Plotting Confusion Matrix"
      ],
      "metadata": {
        "id": "Jxxxc4vLH3Kk"
      }
    },
    {
      "cell_type": "code",
      "source": [
        "from sklearn.metrics import confusion_matrix\n",
        "import numpy as np\n",
        "import seaborn as sns\n",
        "import matplotlib.pyplot as plt\n",
        "\n",
        "# Example predicted labels\n",
        "predicted_labels = np.array(['spam', 'not-spam', 'spam', 'not_spam', 'spam'])\n",
        "\n",
        "# Example true labels\n",
        "true_labels = np.array(['spam', 'not_spam', 'not_spam', 'not_spam', 'spam'])\n",
        "\n",
        "# Define the classes and the order of the confusion matrix\n",
        "classes = ['spam', 'not_spam']\n",
        "\n",
        "# Create confusion matrix\n",
        "cm = confusion_matrix(true_labels, predicted_labels, labels=classes)\n",
        "\n",
        "# Plot confusion matrix\n",
        "sns.heatmap(cm, annot=True, fmt='d', cmap='Blues', xticklabels=classes, yticklabels=classes)\n",
        "plt.xlabel('Predicted Labels')\n",
        "plt.ylabel('True Labels')\n",
        "plt.title('Confusion Matrix')\n",
        "plt.show()\n"
      ],
      "metadata": {
        "execution": {
          "iopub.status.busy": "2023-10-28T12:21:00.912354Z",
          "iopub.execute_input": "2023-10-28T12:21:00.912929Z",
          "iopub.status.idle": "2023-10-28T12:21:01.189869Z",
          "shell.execute_reply.started": "2023-10-28T12:21:00.912896Z",
          "shell.execute_reply": "2023-10-28T12:21:01.188664Z"
        },
        "trusted": true,
        "id": "Mt9pJvuoH3Kk",
        "outputId": "d3fc2568-ee61-4b3f-8f7b-b3c0e4a6d5ce"
      },
      "execution_count": null,
      "outputs": [
        {
          "output_type": "display_data",
          "data": {
            "text/plain": "<Figure size 640x480 with 2 Axes>",
            "image/png": "[encoded data removed]"
          },
          "metadata": {}
        }
      ]
    },
    {
      "cell_type": "markdown",
      "source": [
        "## Using Support Vector Classifier (SVC) from scikit-learn"
      ],
      "metadata": {
        "id": "ndg_JrWrH3Kl"
      }
    },
    {
      "cell_type": "markdown",
      "source": [
        "### Accuracy"
      ],
      "metadata": {
        "id": "YeMiF9u9H3Kl"
      }
    },
    {
      "cell_type": "code",
      "source": [
        "from sklearn.svm import SVC\n",
        "from sklearn.metrics import accuracy_score, confusion_matrix\n",
        "import numpy as np\n",
        "import seaborn as sns\n",
        "import matplotlib.pyplot as plt\n",
        "\n",
        "# Example feature vectors (X) and labels (y)\n",
        "X = np.array([[1, 2], [3, 4], [5, 6], [7, 8], [9, 10]])\n",
        "y = np.array(['spam', 'not_spam', 'spam', 'not_spam', 'spam'])\n",
        "\n",
        "# Create an instance of Support Vector Machine (SVM) classifier\n",
        "model = SVC(kernel='linear')  # You can choose different kernel functions (e.g., 'linear', 'rbf', 'poly', etc.)\n",
        "\n",
        "# Fit the model to the training data\n",
        "model.fit(X, y)\n",
        "\n",
        "# Predict labels for the same data\n",
        "predicted_labels = model.predict(X)\n",
        "\n",
        "# Calculate accuracy\n",
        "accuracy = accuracy_score(y, predicted_labels)\n",
        "print(\"SVM Accuracy:\", accuracy)"
      ],
      "metadata": {
        "execution": {
          "iopub.status.busy": "2023-10-28T12:21:01.191254Z",
          "iopub.execute_input": "2023-10-28T12:21:01.191616Z",
          "iopub.status.idle": "2023-10-28T12:21:01.208524Z",
          "shell.execute_reply.started": "2023-10-28T12:21:01.191585Z",
          "shell.execute_reply": "2023-10-28T12:21:01.207310Z"
        },
        "trusted": true,
        "id": "W9Td84cLH3Kl",
        "outputId": "92a14d36-f134-4a3c-fc49-3e42da2056ec"
      },
      "execution_count": null,
      "outputs": [
        {
          "name": "stdout",
          "text": "SVM Accuracy: 0.6\n",
          "output_type": "stream"
        }
      ]
    },
    {
      "cell_type": "markdown",
      "source": [
        "# ****For K-Nearest Neighbors (KNN):"
      ],
      "metadata": {
        "execution": {
          "iopub.status.busy": "2023-10-28T12:14:28.502398Z",
          "iopub.execute_input": "2023-10-28T12:14:28.503013Z",
          "iopub.status.idle": "2023-10-28T12:14:28.509496Z",
          "shell.execute_reply.started": "2023-10-28T12:14:28.502958Z",
          "shell.execute_reply": "2023-10-28T12:14:28.508068Z"
        },
        "id": "IFwYJtYPH3Kl"
      }
    },
    {
      "cell_type": "code",
      "source": [
        "from sklearn.neighbors import KNeighborsClassifier\n",
        "from sklearn.metrics import accuracy_score, confusion_matrix\n",
        "import numpy as np\n",
        "import seaborn as sns\n",
        "import matplotlib.pyplot as plt\n",
        "\n",
        "# Example feature vectors (X) and labels (y)\n",
        "X = np.array([[1, 2], [3, 4], [5, 6], [7, 8], [9, 10]])\n",
        "y = np.array(['spam', 'not_spam', 'spam', 'not_spam', 'spam'])\n",
        "\n",
        "# Create an instance of K-Nearest Neighbors (KNN) classifier\n",
        "model = KNeighborsClassifier(n_neighbors=3)  # You can specify the number of neighbors (k) here\n",
        "\n",
        "# Fit the model to the training data\n",
        "model.fit(X, y)\n",
        "\n",
        "# Predict labels for the same data\n",
        "predicted_labels = model.predict(X)\n",
        "\n",
        "# Calculate accuracy\n",
        "accuracy = accuracy_score(y, predicted_labels)\n",
        "print(\"KNN Accuracy:\", accuracy)\n"
      ],
      "metadata": {
        "execution": {
          "iopub.status.busy": "2023-10-28T12:21:01.209907Z",
          "iopub.execute_input": "2023-10-28T12:21:01.210751Z",
          "iopub.status.idle": "2023-10-28T12:21:01.224727Z",
          "shell.execute_reply.started": "2023-10-28T12:21:01.210716Z",
          "shell.execute_reply": "2023-10-28T12:21:01.223457Z"
        },
        "trusted": true,
        "id": "CA0OeoAVH3Km",
        "outputId": "688165e4-3ebe-4f99-f318-eba0577ad782"
      },
      "execution_count": null,
      "outputs": [
        {
          "name": "stdout",
          "text": "KNN Accuracy: 0.4\n",
          "output_type": "stream"
        }
      ]
    },
    {
      "cell_type": "markdown",
      "source": [
        "### Confusion Matrix"
      ],
      "metadata": {
        "id": "l4RxTyt8H3Km"
      }
    },
    {
      "cell_type": "code",
      "source": [
        "# Create confusion matrix\n",
        "cm = confusion_matrix(y, predicted_labels)\n",
        "\n",
        "# Plot confusion matrix\n",
        "sns.heatmap(cm, annot=True, fmt='d', cmap='Blues')\n",
        "plt.xlabel('Predicted Labels')\n",
        "plt.ylabel('True Labels')\n",
        "plt.title('Confusion Matrix')\n",
        "plt.show()\n"
      ],
      "metadata": {
        "execution": {
          "iopub.status.busy": "2023-10-28T12:21:01.226843Z",
          "iopub.execute_input": "2023-10-28T12:21:01.227345Z",
          "iopub.status.idle": "2023-10-28T12:21:01.504289Z",
          "shell.execute_reply.started": "2023-10-28T12:21:01.227305Z",
          "shell.execute_reply": "2023-10-28T12:21:01.503047Z"
        },
        "trusted": true,
        "id": "GqeRRZBZH3Km",
        "outputId": "0f39ef13-3876-4e7b-acb4-c9accb77202b"
      },
      "execution_count": null,
      "outputs": [
        {
          "output_type": "display_data",
          "data": {
            "text/plain": "<Figure size 640x480 with 2 Axes>",
            "image/png": "[encoded data removed]"
          },
          "metadata": {}
        }
      ]
    }
  ]
}